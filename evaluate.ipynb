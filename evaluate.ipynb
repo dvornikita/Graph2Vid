{
 "cells": [
  {
   "cell_type": "code",
   "execution_count": 1,
   "id": "b6b74042",
   "metadata": {},
   "outputs": [],
   "source": [
    "import sys, os, io\n",
    "import json\n",
    "import datetime\n",
    "import torch\n",
    "import pandas as pd\n",
    "import numpy as np\n",
    "import networkx as nx\n",
    "from networkx.algorithms.dag import lexicographical_topological_sort\n",
    "import dagviz\n",
    "from matplotlib import pyplot as plt\n",
    "from PIL import Image\n",
    "from copy import deepcopy\n",
    "from tqdm import tqdm\n",
    "\n",
    "\n",
    "from data.loader import LMDB_Folder_Dataset \n",
    "from data.data_utils import dict2tensor\n",
    "from dp.graph_utils import compute_metadag_costs, metadag2vid, generate_metagraph, remove_nodes_from_graph\n",
    "from dp.exact_dp import drop_dtw\n",
    "from dp.dp_utils import compute_all_costs\n",
    "from dp.visualization import (color_code, shape_code, color_code_hex,\n",
    "                              color_values, plot_step_to_video_alignment, plot_alignment)\n",
    "\n",
    "from eval.metrics import framewise_accuracy, IoU, recall_crosstask, IoU_class, Acc_class\n",
    "# from data.ct_graph import get_orig_sample, get_graph_sample, get_inverse_sample, graph_annots, name_to_idx, ct_dataset\n",
    "from data.ct_graph import init_dataset, init_graph, get_graph_sample, map_segmentation_to_graph_nodes\n",
    "\n",
    "device = \"cpu\"\n",
    "\n",
    "%matplotlib inline\n",
    "%load_ext autoreload\n",
    "%autoreload 2"
   ]
  },
  {
   "cell_type": "code",
   "execution_count": 4,
   "id": "ade70d81",
   "metadata": {
    "scrolled": true
   },
   "outputs": [
    {
     "name": "stdout",
     "output_type": "stream",
     "text": [
      "removed edges\n"
     ]
    }
   ],
   "source": [
    "# setting up the data loader, graphs, and the text encoder\n",
    "\n",
    "name_to_idx, ct_dataset = init_dataset()\n",
    "graph_annots = init_graph(type='learned_parser')"
   ]
  },
  {
   "cell_type": "markdown",
   "id": "c62e21fa",
   "metadata": {},
   "source": [
    "# Full evaluation"
   ]
  },
  {
   "cell_type": "code",
   "execution_count": 3,
   "id": "07d220f6",
   "metadata": {
    "scrolled": true
   },
   "outputs": [
    {
     "name": "stderr",
     "output_type": "stream",
     "text": [
      "  0%|                                                    | 0/339 [00:00<?, ?it/s]/user/n.dvornik/Projects/Release/Graph2Vid/data/ct_graph.py:57: FutureWarning: 'pyarrow.deserialize' is deprecated as of 2.0.0 and will be removed in a future version. Use pickle or the pyarrow IPC functionality instead.\n",
      "  sample = ct_dataset[name_to_idx[name]]\n",
      "100%|██████████████████████████████████████████| 339/339 [01:58<00:00,  2.87it/s]"
     ]
    },
    {
     "name": "stdout",
     "output_type": "stream",
     "text": [
      "graph | Acc 0.24872163906376085, IoU: 0.16618270980114894\n",
      "lin | Acc 0.23615385526957994, IoU: 0.15923570899747638\n"
     ]
    },
    {
     "name": "stderr",
     "output_type": "stream",
     "text": [
      "\n"
     ]
    }
   ],
   "source": [
    "# evaluating step localization using graph grounding vs aligning with linear recipes\n",
    "\n",
    "kp = 0.1\n",
    "gamma = 10\n",
    "use_negative = False\n",
    "\n",
    "res = {'graph': [], 'lin': []}\n",
    "for name in tqdm(list(name_to_idx.keys())):\n",
    "    graph_sample = get_graph_sample(name, remove_absent_steps=False)\n",
    "    \n",
    "    # graph sample\n",
    "    metadag = generate_metagraph(graph_sample['graph'])\n",
    "    sorted_node_ids = list(lexicographical_topological_sort(metadag))\n",
    "    idx2node = {idx: node_id for idx, node_id in enumerate(sorted_node_ids)}\n",
    "    zx_costs, drop_costs = compute_metadag_costs(graph_sample, idx2node, gamma, keep_percentile=kp)\n",
    "    _, labels = metadag2vid(zx_costs.numpy(), drop_costs.numpy(), metadag, idx2node, contiguous=True)\n",
    "    \n",
    "    mapped_labels = -np.ones_like(labels)\n",
    "    for rec_id, cap_id in graph_sample['recipe_2_caption'].items():\n",
    "        mapped_labels[labels == rec_id] = cap_id\n",
    "        \n",
    "    iou_cls = IoU_class(mapped_labels, graph_sample['gt_seg'])\n",
    "    acc_cls = Acc_class(mapped_labels, graph_sample['gt_seg'], use_negative=use_negative)\n",
    "    res['graph'].append((acc_cls, iou_cls))\n",
    "    \n",
    "    # lin sample\n",
    "    zx_costs, drop_costs, _ = compute_all_costs(graph_sample, None, gamma, 'logit', kp, do_logsoftmax=True)\n",
    "    labels = drop_dtw(zx_costs.numpy(), drop_costs.numpy(), contiguous=True, return_labels=True) - 1\n",
    "    \n",
    "    mapped_labels = -np.ones_like(labels)\n",
    "    for rec_id, cap_id in graph_sample['recipe_2_caption'].items():\n",
    "        mapped_labels[labels == rec_id] = cap_id\n",
    "        \n",
    "    iou_cls = IoU_class(mapped_labels, graph_sample['gt_seg'])\n",
    "    acc_cls = Acc_class(mapped_labels, graph_sample['gt_seg'], use_negative=use_negative)\n",
    "    res['lin'].append((acc_cls, iou_cls))\n",
    "    \n",
    "for name in res:\n",
    "    acc = np.mean([r[0] for r in res[name]])\n",
    "    iou = np.mean([r[1] for r in res[name]])\n",
    "    print(f\"{name} | Acc {acc}, IoU: {iou}\")"
   ]
  }
 ],
 "metadata": {
  "kernelspec": {
   "display_name": "Python 3 (ipykernel)",
   "language": "python",
   "name": "python3"
  },
  "language_info": {
   "codemirror_mode": {
    "name": "ipython",
    "version": 3
   },
   "file_extension": ".py",
   "mimetype": "text/x-python",
   "name": "python",
   "nbconvert_exporter": "python",
   "pygments_lexer": "ipython3",
   "version": "3.9.7"
  }
 },
 "nbformat": 4,
 "nbformat_minor": 5
}
